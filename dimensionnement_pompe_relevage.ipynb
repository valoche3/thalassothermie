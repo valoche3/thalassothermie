{
 "cells": [
  {
   "cell_type": "markdown",
   "id": "8bfdfea4-4203-4970-ad2e-0f0794c9e6f2",
   "metadata": {},
   "source": [
    "# Dimensionnement de pompes de relevage et des tuyaux"
   ]
  },
  {
   "cell_type": "markdown",
   "id": "dfb467f4-01b5-4329-910a-9986c30382f9",
   "metadata": {},
   "source": [
    "## Étape 1 : calcul de la température en sortie de l'échangeur"
   ]
  },
  {
   "cell_type": "code",
   "execution_count": null,
   "id": "e1733b0e-78e3-4ea8-b78c-bb01a191956f",
   "metadata": {},
   "outputs": [],
   "source": [
    "T_f = 24 #température en sortie de l'échangeur"
   ]
  },
  {
   "cell_type": "markdown",
   "id": "6cd083a9-f097-40f1-b892-99ec3746a2bc",
   "metadata": {},
   "source": [
    "## Étape 2 : Calcul du débit volumique pour l'eau de mer et de l'eau douce"
   ]
  },
  {
   "cell_type": "code",
   "execution_count": null,
   "id": "ae34c5dd-72b8-4bd9-a5dc-8907537c146a",
   "metadata": {},
   "outputs": [],
   "source": [
    "d_m = #kg/s\n",
    "rho_mer = 1030 #kg/mètres cubes\n",
    "rho_douce = 1000 #kg/mètres cubes\n",
    "d_v_mer = d_m / rho_mer #mètres cubes/seconde\n",
    "d_v_douce = d_m / rho_douce #mètres cubes/seconde"
   ]
  },
  {
   "cell_type": "code",
   "execution_count": null,
   "id": "b1b5533c-93e5-4895-8936-a3dc6f4c2b0f",
   "metadata": {},
   "outputs": [],
   "source": []
  }
 ],
 "metadata": {
  "kernelspec": {
   "display_name": "Python 3 (ipykernel)",
   "language": "python",
   "name": "python3"
  },
  "language_info": {
   "codemirror_mode": {
    "name": "ipython",
    "version": 3
   },
   "file_extension": ".py",
   "mimetype": "text/x-python",
   "name": "python",
   "nbconvert_exporter": "python",
   "pygments_lexer": "ipython3",
   "version": "3.12.4"
  }
 },
 "nbformat": 4,
 "nbformat_minor": 5
}
