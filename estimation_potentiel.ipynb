{
 "cells": [
  {
   "cell_type": "markdown",
   "id": "9134a88b-e4b9-48e5-8c60-0e5d671c7f38",
   "metadata": {},
   "source": [
    "# Estimation puissance à fournir"
   ]
  },
  {
   "cell_type": "markdown",
   "id": "59ab195f-bca1-4037-9e87-1e84e0e40375",
   "metadata": {},
   "source": [
    "Dans ce code, on essaie de déterminer la puissance nécessaire pour chauffer les bâtiments du port (en hiver) ou alors les refroidir (en été). On cherchera ensuite l'énergie thermique consommée par les bâtiments."
   ]
  },
  {
   "cell_type": "markdown",
   "id": "0e1b74eb-571e-4ac7-9c40-e15e9fd26f04",
   "metadata": {},
   "source": [
    "### Importation des librairies"
   ]
  },
  {
   "cell_type": "code",
   "execution_count": 94,
   "id": "56262f15-0627-4118-81a8-803e92853ed6",
   "metadata": {},
   "outputs": [],
   "source": [
    "import numpy as np\n",
    "import matplotlib.pyplot as plt\n",
    "from math import *"
   ]
  },
  {
   "cell_type": "markdown",
   "id": "95188090-2bc6-4e4e-80df-19f17b084ae2",
   "metadata": {},
   "source": [
    "## Récupération des données"
   ]
  },
  {
   "cell_type": "markdown",
   "id": "4e89e489-82ba-445f-8977-966731755563",
   "metadata": {},
   "source": [
    "En première approximation pour calculer les pertes par les surfaces latérales et le plafond, on va prendre la racine carrée de chaque surface et la multiplier par la hauteur."
   ]
  },
  {
   "cell_type": "code",
   "execution_count": 95,
   "id": "8d0bb811-cd02-46b0-842d-095dfb3f0237",
   "metadata": {},
   "outputs": [
    {
     "name": "stdin",
     "output_type": "stream",
     "text": [
      "quel est le nombre de bâtiments considérés ? 2\n",
      "quel est le nom du batiment 0 ? lot 3\n",
      "quel est le coefficient de perte du batiment lot 3 ? 3\n",
      "quelle est la surface au sol du batiment lot 3 ? 2\n",
      "quelle est la hauteur typique du batiment lot 3 ? 1\n",
      "quel est le nom du batiment 1 ? lot 5\n",
      "quel est le coefficient de perte du batiment lot 5 ? 1\n",
      "quelle est la surface au sol du batiment lot 5 ? 3\n",
      "quelle est la hauteur typique du batiment lot 5 ? 2\n"
     ]
    }
   ],
   "source": [
    "nombre_batiment = int(input('quel est le nombre de bâtiments considérés ?'))\n",
    "\n",
    "batiment = [(0,0,0) for i in range(nombre_batiment)]\n",
    "\n",
    "#type_batiment = [O for i in range(nombre_batiment)] #type de batiment --> deuxième étape\n",
    "surface_totale = [0 for i in range(nombre_batiment)] #surfaces utiles pour calculer les pertes\n",
    "K = [0 for i in range(nombre_batiment)]\n",
    "\n",
    "for i in range(nombre_batiment):\n",
    "\n",
    "    #on récupère le nom du bâtiment\n",
    "    while True:\n",
    "        try:\n",
    "            nom = input(f'quel est le nom du batiment {i} ?')\n",
    "            break\n",
    "        except ValueError:\n",
    "            print('donnée invalide ! réessayez')\n",
    "            \n",
    "    #on récupère les coefficients de perte\n",
    "    while True:\n",
    "        try:\n",
    "            R = float(input(f'quel est le coefficient de perte du batiment {nom} ?'))\n",
    "            break\n",
    "        except ValueError:\n",
    "            print('donnée invalide ! réessayez')\n",
    "    K[i] = 1/R\n",
    "    \n",
    "    #on récupère la surface du batiment\n",
    "    while True:\n",
    "        try:\n",
    "            surface_sol = float(input(f'quelle est la surface au sol du batiment {nom} ?'))\n",
    "            break\n",
    "        except ValueError:\n",
    "            print('donnée invalide ! réessayez')\n",
    "\n",
    "    #on récupère la hauteur du batiment\n",
    "    while True:\n",
    "        try:\n",
    "            hauteur_typique = float(input(f'quelle est la hauteur typique du batiment {nom} ?'))\n",
    "            break\n",
    "        except ValueError:\n",
    "            print('donnée invalide ! réessayez')\n",
    "\n",
    "    #on calcule la longueur typique puis la surface latérale\n",
    "    longueur_typique = sqrt(surface_sol)\n",
    "\n",
    "    #on calcule la surface totale utile pour le calcul des pertes\n",
    "    surface_totale[i] = 2*surface_sol + 4*longueur_typique*hauteur_typique\n",
    "\n",
    "    #on met tout ça dans la liste batiment\n",
    "    batiment[i] = (nom,surface_totale[i],K[i])"
   ]
  },
  {
   "cell_type": "markdown",
   "id": "0331f269-95f0-4b37-8937-e972db27a773",
   "metadata": {},
   "source": [
    "### Calcul des volumes"
   ]
  },
  {
   "cell_type": "code",
   "execution_count": 96,
   "id": "ca2b5f2d-f553-409b-92fc-d7114c8a4b77",
   "metadata": {},
   "outputs": [],
   "source": [
    "volume_batiment = [0 for i in range(nombre_batiment)]\n",
    "\n",
    "for i in range(nombre_batiment):\n",
    "    volume_batiment[i] = surface_batiment[i]*hauteur_batiment[i]"
   ]
  },
  {
   "cell_type": "markdown",
   "id": "6a59b2c8-628d-4d36-9f9d-9ffcc3bfe2e3",
   "metadata": {},
   "source": [
    "### Représentation graphique de la puissance nécessaire sur l'année"
   ]
  },
  {
   "cell_type": "markdown",
   "id": "65171fde-d97f-4889-9dd3-c2e57e5b7f4c",
   "metadata": {},
   "source": [
    "On va tracer le graphe de la puissance nécessaire sur l'année par mois. On va considérer une valeur moyenne de la température extérieur par mois. On considère que les mois d'hiver sont de novembre à avril, et que les mois d'été sont de mai à octobre."
   ]
  },
  {
   "cell_type": "code",
   "execution_count": 97,
   "id": "6605cd60-8ec0-4027-aeb1-b21c9d895388",
   "metadata": {},
   "outputs": [],
   "source": [
    "#on considère que la température idéale est de 22 degrés en été et de 24 degrés en hiver\n",
    "\n",
    "#T_exterieur = int(input('quelle est la température extérieur en celcius ?')) #on pourra récupérer des données sur un an\n",
    "#T_voulue = int(input('quelle est la température voulue dans le bâtiment en celcius ?'))\n",
    "\n",
    "T_exterieur = [8,8,10,13,17,21,23,24,20,17,12,9] #température par mois\n",
    "T_voulue = [24,24,24,24,22,22,22,22,22,22,24,24] #température par mois\n",
    "\n",
    "puissance_batiment = [[0 for i in range(nombre_batiment)] for j in range(12)]\n",
    "\n",
    "valeur_puissance_totale = [0 for j in range(12)]\n",
    "\n",
    "for j in range(12):\n",
    "    \n",
    "    for i in range(nombre_batiment):\n",
    "        puissance_batiment[j][i] = surface_totale[i]*np.abs(T_exterieur[j] - T_voulue[j])*valeurs_K[i]\n",
    "\n",
    "    valeur_puissance_totale[j] = sum(puissance_batiment[:][j])"
   ]
  },
  {
   "cell_type": "code",
   "execution_count": 98,
   "id": "5102fd5f-330a-473d-89d6-3c7457ca0b33",
   "metadata": {},
   "outputs": [
    {
     "name": "stdout",
     "output_type": "stream",
     "text": [
      "[np.float64(118.05304284017359), np.float64(118.05304284017359), np.float64(103.29641248515188), np.float64(81.16146695261935), np.float64(36.89157588755425), np.float64(7.378315177510849), np.float64(7.378315177510849), np.float64(14.756630355021699), np.float64(14.756630355021699), np.float64(36.89157588755425), np.float64(88.53978213013019), np.float64(110.67472766266275)]\n"
     ]
    }
   ],
   "source": [
    "print(valeur_puissance_totale)"
   ]
  },
  {
   "cell_type": "code",
   "execution_count": 99,
   "id": "d23d838a-51c1-4dae-b09d-8102c77d6eea",
   "metadata": {},
   "outputs": [
    {
     "data": {
      "image/png": "[encoded data removed]",
      "text/plain": [
       "<Figure size 640x480 with 1 Axes>"
      ]
     },
     "metadata": {},
     "output_type": "display_data"
    }
   ],
   "source": [
    "plt.plot(valeur_puissance_totale)\n",
    "plt.title('Demande en puissance (W) par mois pour le port de Toulon')\n",
    "plt.show()"
   ]
  },
  {
   "cell_type": "code",
   "execution_count": null,
   "id": "ec6b9557-704f-4ed1-840c-06a68a9c57c0",
   "metadata": {},
   "outputs": [],
   "source": [
    "#degré jour unifié = dju"
   ]
  }
 ],
 "metadata": {
  "kernelspec": {
   "display_name": "Python 3 (ipykernel)",
   "language": "python",
   "name": "python3"
  },
  "language_info": {
   "codemirror_mode": {
    "name": "ipython",
    "version": 3
   },
   "file_extension": ".py",
   "mimetype": "text/x-python",
   "name": "python",
   "nbconvert_exporter": "python",
   "pygments_lexer": "ipython3",
   "version": "3.12.4"
  }
 },
 "nbformat": 4,
 "nbformat_minor": 5
}
