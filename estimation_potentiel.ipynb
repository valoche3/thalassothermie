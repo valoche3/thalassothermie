{
 "cells": [
  {
   "cell_type": "markdown",
   "id": "9134a88b-e4b9-48e5-8c60-0e5d671c7f38",
   "metadata": {},
   "source": [
    "# Estimation puissance à fournir"
   ]
  },
  {
   "cell_type": "markdown",
   "id": "59ab195f-bca1-4037-9e87-1e84e0e40375",
   "metadata": {},
   "source": [
    "Dans ce code, on essaie de déterminer la puissance nécessaire pour chauffer les bâtiments du port (en hiver) ou alors les refroidir (en été). On cherchera ensuite l'énergie thermique consommée par les bâtiments."
   ]
  },
  {
   "cell_type": "markdown",
   "id": "0e1b74eb-571e-4ac7-9c40-e15e9fd26f04",
   "metadata": {},
   "source": [
    "### Importation des librairies"
   ]
  },
  {
   "cell_type": "code",
   "execution_count": 63,
   "id": "56262f15-0627-4118-81a8-803e92853ed6",
   "metadata": {},
   "outputs": [],
   "source": [
    "import numpy as np\n",
    "import matplotlib.pyplot as plt"
   ]
  },
  {
   "cell_type": "markdown",
   "id": "95188090-2bc6-4e4e-80df-19f17b084ae2",
   "metadata": {},
   "source": [
    "## Récupération des données"
   ]
  },
  {
   "cell_type": "markdown",
   "id": "07d197a7-eb0d-4075-9a85-d5b30f4d0557",
   "metadata": {},
   "source": [
    "### Récupération des surfaces et des hauteurs"
   ]
  },
  {
   "cell_type": "code",
   "execution_count": 53,
   "id": "e6a0b5df-aca6-4ca6-8bc4-c6c3f6f8481f",
   "metadata": {},
   "outputs": [
    {
     "name": "stdin",
     "output_type": "stream",
     "text": [
      "quels est le nombre de bâtiments considérés ? 3\n",
      "quelle est la surface du bâtiment 1 considéré en m2 ? 3\n",
      "quelle est la hauteur du bâtiment 1 considéré en m2 ? 3\n",
      "quelle est la surface du bâtiment 2 considéré en m2 ? 4\n",
      "quelle est la hauteur du bâtiment 2 considéré en m2 ? 4\n",
      "quelle est la surface du bâtiment 3 considéré en m2 ? 4\n",
      "quelle est la hauteur du bâtiment 3 considéré en m2 ? 4\n"
     ]
    }
   ],
   "source": [
    "nombre_batiment = int(input('quels est le nombre de bâtiments considérés ?'))\n",
    "\n",
    "surface_batiment = [0 for i in range(nombre_batiment)]\n",
    "hauteur_batiment = [0 for i in range(nombre_batiment)]\n",
    "type_batiment = [0 for i in range(nombre_batiment)] #dans un second temps, calcul du coefficient de perte\n",
    "\n",
    "for i in range(nombre_batiment):\n",
    "    \n",
    "    #on récupère la surface du bâtiment\n",
    "    while True: #on veut forcément une donnée du type int\n",
    "        try:\n",
    "            surface = int(input(f'quelle est la surface du bâtiment {i+1} considéré en m2 ?'))\n",
    "            break\n",
    "        except ValueError:\n",
    "            print(\"ce n'est pas un nombre valide ! réessayez \")\n",
    "    surface_batiment[i] = surface\n",
    "\n",
    "    #on récupère la hauteur du bâtiment\n",
    "    while True: #on veut forcément une donnée du type int\n",
    "        try:\n",
    "            hauteur = int(input(f'quelle est la hauteur du bâtiment {i+1} considéré en m2 ?'))\n",
    "            break\n",
    "        except ValueError:\n",
    "            print(\"ce n'est pas un nombre valide ! réessayez \")\n",
    "    hauteur_batiment[i] = hauteur"
   ]
  },
  {
   "cell_type": "markdown",
   "id": "0331f269-95f0-4b37-8937-e972db27a773",
   "metadata": {},
   "source": [
    "### Calcul des volumes"
   ]
  },
  {
   "cell_type": "code",
   "execution_count": 55,
   "id": "ca2b5f2d-f553-409b-92fc-d7114c8a4b77",
   "metadata": {},
   "outputs": [],
   "source": [
    "volume_batiment = [0 for i in range(nombre_batiment)]\n",
    "\n",
    "for i in range(nombre_batiment):\n",
    "    volume_batiment[i] = surface_batiment[i]*hauteur_batiment[i]"
   ]
  },
  {
   "cell_type": "markdown",
   "id": "06b02494-f9a2-47fd-b832-3cfbc8d1f785",
   "metadata": {},
   "source": [
    "### Estimation des coefficients d'isolation de chaque bâtiment"
   ]
  },
  {
   "cell_type": "code",
   "execution_count": 56,
   "id": "55ed77e1-1e1e-4ba2-acca-ec8e3b695d54",
   "metadata": {},
   "outputs": [
    {
     "name": "stdin",
     "output_type": "stream",
     "text": [
      "quelle est le coefficient d'isolation R du bâtiment 1 considéré en m2 ? 3\n",
      "quelle est le coefficient d'isolation R du bâtiment 2 considéré en m2 ? 4\n",
      "quelle est le coefficient d'isolation R du bâtiment 3 considéré en m2 ? 5\n"
     ]
    }
   ],
   "source": [
    "#dans le cas où on construit un nouveau bâtiment, on a un coefficient R = 4 (façades) et 8 (toit)\n",
    "\n",
    "valeurs_R = [0 for i in range(nombre_batiment)]\n",
    "    \n",
    "for i in range(nombre_batiment):\n",
    "    while True: #on veut forcément une donnée du type int\n",
    "        try:\n",
    "            R = int(input(f\"quelle est le coefficient d'isolation R du bâtiment {i+1} considéré en m2 ?\"))\n",
    "            break\n",
    "        except ValueError:\n",
    "            print(\"ce n'est pas un nombre valide ! réessayez \")\n",
    "    valeurs_R[i] = R\n",
    "    \n",
    "valeurs_K = [0 for i in range(nombre_batiment)]\n",
    "\n",
    "for i in range(nombre_batiment):\n",
    "    valeurs_K[i] = 1/valeurs_R[i]"
   ]
  },
  {
   "cell_type": "markdown",
   "id": "58dbd0eb-26ab-4b7b-bd12-15cb42bf585b",
   "metadata": {},
   "source": [
    "### Calcul de la puissance nécessaire pour chauffer une pièce"
   ]
  },
  {
   "cell_type": "code",
   "execution_count": 34,
   "id": "575bf86d-d713-40ea-8749-71c607608277",
   "metadata": {},
   "outputs": [
    {
     "name": "stdin",
     "output_type": "stream",
     "text": [
      "quelle est la température extérieur en celcius ? 15\n",
      "quelle est la température voulue dans le bâtiment en celcius ? 22\n"
     ]
    }
   ],
   "source": [
    "#on considère que la température idéale est de 22 degrés en été et de 24 degrés en hiver\n",
    "\n",
    "#T_exterieur = int(input('quelle est la température extérieur en celcius ?')) #on pourra récupérer des données sur un an\n",
    "#T_voulue = int(input('quelle est la température voulue dans le bâtiment en celcius ?'))\n",
    "\n",
    "puissance_batiment = [0 for i in range(nombre_batiment)]\n",
    "\n",
    "for i in range(nombre_batiment):\n",
    "    puissance_batiment[i] = volume_batiment[i]*np.abs(T_exterieur - T_voulue)*valeurs_K[i]\n",
    "\n",
    "valeur_puissance_totale = sum(puissance_batiment)"
   ]
  },
  {
   "cell_type": "markdown",
   "id": "6a59b2c8-628d-4d36-9f9d-9ffcc3bfe2e3",
   "metadata": {},
   "source": [
    "### Représentation graphique de la puissance nécessaire sur l'année"
   ]
  },
  {
   "cell_type": "markdown",
   "id": "65171fde-d97f-4889-9dd3-c2e57e5b7f4c",
   "metadata": {},
   "source": [
    "On va tracer le graphe de la puissance nécessaire sur l'année par mois. On va considérer une valeur moyenne de la température extérieur par mois. On considère que les mois d'hiver sont de novembre à avril, et que les mois d'été sont de mai à octobre."
   ]
  },
  {
   "cell_type": "code",
   "execution_count": 60,
   "id": "6605cd60-8ec0-4027-aeb1-b21c9d895388",
   "metadata": {},
   "outputs": [],
   "source": [
    "T_exterieur = [8,8,10,13,17,21,23,24,20,17,12,9] #température par mois\n",
    "T_voulue = [24,24,24,24,22,22,22,22,22,22,24,24] #température par mois\n",
    "\n",
    "puissance_batiment = [[0 for i in range(nombre_batiment)] for j in range(12)]\n",
    "\n",
    "valeur_puissance_totale = [0 for j in range(12)]\n",
    "\n",
    "for j in range(12):\n",
    "    \n",
    "    for i in range(nombre_batiment):\n",
    "        puissance_batiment[j][i] = volume_batiment[i]*np.abs(T_exterieur[j] - T_voulue[j])*valeurs_K[i]\n",
    "\n",
    "    valeur_puissance_totale[j] = sum(puissance_batiment[:][j])"
   ]
  },
  {
   "cell_type": "code",
   "execution_count": 61,
   "id": "5102fd5f-330a-473d-89d6-3c7457ca0b33",
   "metadata": {},
   "outputs": [
    {
     "name": "stdout",
     "output_type": "stream",
     "text": [
      "[np.float64(163.2), np.float64(163.2), np.float64(142.8), np.float64(112.2), np.float64(51.0), np.float64(10.2), np.float64(10.2), np.float64(20.4), np.float64(20.4), np.float64(51.0), np.float64(122.4), np.float64(153.0)]\n"
     ]
    }
   ],
   "source": [
    "print(valeur_puissance_totale)"
   ]
  },
  {
   "cell_type": "code",
   "execution_count": 65,
   "id": "d23d838a-51c1-4dae-b09d-8102c77d6eea",
   "metadata": {},
   "outputs": [
    {
     "data": {
      "image/png": "[encoded data removed]",
      "text/plain": [
       "<Figure size 640x480 with 1 Axes>"
      ]
     },
     "metadata": {},
     "output_type": "display_data"
    }
   ],
   "source": [
    "plt.plot(valeur_puissance_totale)\n",
    "plt.title('Demande en puissance (W) par mois pour le port de Toulon')\n",
    "plt.show()"
   ]
  },
  {
   "cell_type": "code",
   "execution_count": null,
   "id": "ec6b9557-704f-4ed1-840c-06a68a9c57c0",
   "metadata": {},
   "outputs": [],
   "source": [
    "#degré jour unifié = dju"
   ]
  }
 ],
 "metadata": {
  "kernelspec": {
   "display_name": "Python 3 (ipykernel)",
   "language": "python",
   "name": "python3"
  },
  "language_info": {
   "codemirror_mode": {
    "name": "ipython",
    "version": 3
   },
   "file_extension": ".py",
   "mimetype": "text/x-python",
   "name": "python",
   "nbconvert_exporter": "python",
   "pygments_lexer": "ipython3",
   "version": "3.12.4"
  }
 },
 "nbformat": 4,
 "nbformat_minor": 5
}
