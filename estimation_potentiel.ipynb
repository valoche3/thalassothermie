{
 "cells": [
  {
   "cell_type": "markdown",
   "id": "9134a88b-e4b9-48e5-8c60-0e5d671c7f38",
   "metadata": {},
   "source": [
    "# Estimation puissance à fournir"
   ]
  },
  {
   "cell_type": "markdown",
   "id": "59ab195f-bca1-4037-9e87-1e84e0e40375",
   "metadata": {},
   "source": [
    "Dans ce code, on essaie de déterminer la puissance nécessaire pour chauffer les bâtiments du port (en hiver) ou alors les refroidir (en été). On cherchera ensuite l'énergie thermique consommée par les bâtiments."
   ]
  },
  {
   "cell_type": "markdown",
   "id": "0e1b74eb-571e-4ac7-9c40-e15e9fd26f04",
   "metadata": {},
   "source": [
    "### Importation des librairies"
   ]
  },
  {
   "cell_type": "code",
   "execution_count": 89,
   "id": "56262f15-0627-4118-81a8-803e92853ed6",
   "metadata": {},
   "outputs": [],
   "source": [
    "import numpy as np\n",
    "import matplotlib.pyplot as plt\n",
    "from math import *"
   ]
  },
  {
   "cell_type": "markdown",
   "id": "95188090-2bc6-4e4e-80df-19f17b084ae2",
   "metadata": {},
   "source": [
    "## Récupération des données"
   ]
  },
  {
   "cell_type": "markdown",
   "id": "4e89e489-82ba-445f-8977-966731755563",
   "metadata": {},
   "source": [
    "En première approximation pour calculer les pertes par les surfaces latérales et le plafond, on va prendre la racine carrée de chaque surface et la multiplier par la hauteur."
   ]
  },
  {
   "cell_type": "code",
   "execution_count": 93,
   "id": "8d0bb811-cd02-46b0-842d-095dfb3f0237",
   "metadata": {},
   "outputs": [
    {
     "name": "stdout",
     "output_type": "stream",
     "text": [
      "quel est le nombre de bâtiments considérés ? 3\n",
      "quel est le nom du batiment 0 ? 2\n",
      "quel est le coefficient de perte du batiment 2 ? 3\n",
      "quelle est la surface au sol du batiment 2 ? 1\n",
      "quelle est la hauteur typique du batiment 2 ? 3\n",
      "quel est le nom du batiment 1 ? 3\n",
      "quel est le coefficient de perte du batiment 3 ? 3\n",
      "quelle est la surface au sol du batiment 3 ? 7\n",
      "quelle est la hauteur typique du batiment 3 ? 8\n",
      "quel est le nom du batiment 2 ? 8\n",
      "quel est le coefficient de perte du batiment 8 ? 9\n",
      "quelle est la surface au sol du batiment 8 ? 9\n",
      "quelle est la hauteur typique du batiment 8 ? 7\n"
     ]
    }
   ],
   "source": [
    "nombre_batiment = int(input('quel est le nombre de bâtiments considérés ?'))\n",
    "\n",
    "batiment = [(0,0,0) for i in range(nombre_batiment)]\n",
    "\n",
    "#type_batiment = [O for i in range(nombre_batiment)] #type de batiment --> deuxième étape\n",
    "surface_totale = [0 for i in range(nombre_batiment)] #surfaces utiles pour calculer les pertes\n",
    "K = [0 for i in range(nombre_batiment)]\n",
    "\n",
    "for i in range(nombre_batiment):\n",
    "\n",
    "    #on récupère le nom du bâtiment\n",
    "    while True:\n",
    "        try:\n",
    "            nom = input(f'quel est le nom du batiment {i} ?')\n",
    "            break\n",
    "        except ValueError:\n",
    "            print('donnée invalide ! réessayez')\n",
    "            \n",
    "    #on récupère les coefficients de perte\n",
    "    while True:\n",
    "        try:\n",
    "            R = float(input(f'quel est le coefficient de perte du batiment {nom} ?'))\n",
    "            break\n",
    "        except ValueError:\n",
    "            print('donnée invalide ! réessayez')\n",
    "    K[i] = 1/R\n",
    "    \n",
    "    #on récupère la surface du batiment\n",
    "    while True:\n",
    "        try:\n",
    "            surface_sol = float(input(f'quelle est la surface au sol du batiment {nom} ?'))\n",
    "            break\n",
    "        except ValueError:\n",
    "            print('donnée invalide ! réessayez')\n",
    "\n",
    "    #on récupère la hauteur du batiment\n",
    "    while True:\n",
    "        try:\n",
    "            hauteur_typique = float(input(f'quelle est la hauteur typique du batiment {nom} ?'))\n",
    "            break\n",
    "        except ValueError:\n",
    "            print('donnée invalide ! réessayez')\n",
    "\n",
    "    #on calcule la longueur typique puis la surface latérale\n",
    "    longueur_typique = sqrt(surface_sol)\n",
    "\n",
    "    #on calcule la surface totale utile pour le calcul des pertes\n",
    "    surface_totale[i] = 2*surface_sol + 4*longueur_typique*hauteur_typique\n",
    "\n",
    "    #on met tout ça dans la liste batiment\n",
    "    batiment[i] = (nom,surface_totale[i],K[i])"
   ]
  },
  {
   "cell_type": "markdown",
   "id": "0331f269-95f0-4b37-8937-e972db27a773",
   "metadata": {},
   "source": [
    "### Calcul des volumes"
   ]
  },
  {
   "cell_type": "code",
   "execution_count": 68,
   "id": "ca2b5f2d-f553-409b-92fc-d7114c8a4b77",
   "metadata": {},
   "outputs": [],
   "source": [
    "volume_batiment = [0 for i in range(nombre_batiment)]\n",
    "\n",
    "for i in range(nombre_batiment):\n",
    "    volume_batiment[i] = surface_batiment[i]*hauteur_batiment[i]"
   ]
  },
  {
   "cell_type": "markdown",
   "id": "58dbd0eb-26ab-4b7b-bd12-15cb42bf585b",
   "metadata": {},
   "source": [
    "### Calcul de la puissance nécessaire pour chauffer une pièce"
   ]
  },
  {
   "cell_type": "code",
   "execution_count": 81,
   "id": "575bf86d-d713-40ea-8749-71c607608277",
   "metadata": {},
   "outputs": [
    {
     "ename": "TypeError",
     "evalue": "unsupported operand type(s) for -: 'list' and 'list'",
     "output_type": "error",
     "traceback": [
      "\u001b[0;31m---------------------------------------------------------------------------\u001b[0m",
      "\u001b[0;31mTypeError\u001b[0m                                 Traceback (most recent call last)",
      "Cell \u001b[0;32mIn[81], line 9\u001b[0m\n\u001b[1;32m      6\u001b[0m puissance_batiment \u001b[38;5;241m=\u001b[39m [\u001b[38;5;241m0\u001b[39m \u001b[38;5;28;01mfor\u001b[39;00m i \u001b[38;5;129;01min\u001b[39;00m \u001b[38;5;28mrange\u001b[39m(nombre_batiment)]\n\u001b[1;32m      8\u001b[0m \u001b[38;5;28;01mfor\u001b[39;00m i \u001b[38;5;129;01min\u001b[39;00m \u001b[38;5;28mrange\u001b[39m(nombre_batiment):\n\u001b[0;32m----> 9\u001b[0m     puissance_batiment[i] \u001b[38;5;241m=\u001b[39m surface_totale[i]\u001b[38;5;241m*\u001b[39mnp\u001b[38;5;241m.\u001b[39mabs(\u001b[43mT_exterieur\u001b[49m\u001b[43m \u001b[49m\u001b[38;5;241;43m-\u001b[39;49m\u001b[43m \u001b[49m\u001b[43mT_voulue\u001b[49m)\u001b[38;5;241m*\u001b[39mvaleurs_K[i]\n\u001b[1;32m     11\u001b[0m valeur_puissance_totale \u001b[38;5;241m=\u001b[39m \u001b[38;5;28msum\u001b[39m(puissance_batiment)\n",
      "\u001b[0;31mTypeError\u001b[0m: unsupported operand type(s) for -: 'list' and 'list'"
     ]
    }
   ],
   "source": [
    "#on considère que la température idéale est de 22 degrés en été et de 24 degrés en hiver\n",
    "\n",
    "#T_exterieur = int(input('quelle est la température extérieur en celcius ?')) #on pourra récupérer des données sur un an\n",
    "#T_voulue = int(input('quelle est la température voulue dans le bâtiment en celcius ?'))\n",
    "\n",
    "puissance_batiment = [0 for i in range(nombre_batiment)]\n",
    "\n",
    "for i in range(nombre_batiment):\n",
    "    puissance_batiment[i] = surface_totale[i]*np.abs(T_exterieur - T_voulue)*valeurs_K[i]\n",
    "\n",
    "valeur_puissance_totale = sum(puissance_batiment)"
   ]
  },
  {
   "cell_type": "markdown",
   "id": "6a59b2c8-628d-4d36-9f9d-9ffcc3bfe2e3",
   "metadata": {},
   "source": [
    "### Représentation graphique de la puissance nécessaire sur l'année"
   ]
  },
  {
   "cell_type": "markdown",
   "id": "65171fde-d97f-4889-9dd3-c2e57e5b7f4c",
   "metadata": {},
   "source": [
    "On va tracer le graphe de la puissance nécessaire sur l'année par mois. On va considérer une valeur moyenne de la température extérieur par mois. On considère que les mois d'hiver sont de novembre à avril, et que les mois d'été sont de mai à octobre."
   ]
  },
  {
   "cell_type": "code",
   "execution_count": 82,
   "id": "6605cd60-8ec0-4027-aeb1-b21c9d895388",
   "metadata": {},
   "outputs": [],
   "source": [
    "T_exterieur = [8,8,10,13,17,21,23,24,20,17,12,9] #température par mois\n",
    "T_voulue = [24,24,24,24,22,22,22,22,22,22,24,24] #température par mois\n",
    "\n",
    "puissance_batiment = [[0 for i in range(nombre_batiment)] for j in range(12)]\n",
    "\n",
    "valeur_puissance_totale = [0 for j in range(12)]\n",
    "\n",
    "for j in range(12):\n",
    "    \n",
    "    for i in range(nombre_batiment):\n",
    "        puissance_batiment[j][i] = surface_totale[i]*np.abs(T_exterieur[j] - T_voulue[j])*valeurs_K[i]\n",
    "\n",
    "    valeur_puissance_totale[j] = sum(puissance_batiment[:][j])"
   ]
  },
  {
   "cell_type": "code",
   "execution_count": 83,
   "id": "5102fd5f-330a-473d-89d6-3c7457ca0b33",
   "metadata": {},
   "outputs": [
    {
     "name": "stdout",
     "output_type": "stream",
     "text": [
      "[np.float64(174.85125168440814), np.float64(174.85125168440814), np.float64(152.9948452238571), np.float64(120.2102355330306), np.float64(54.64101615137754), np.float64(10.928203230275509), np.float64(10.928203230275509), np.float64(21.856406460551018), np.float64(21.856406460551018), np.float64(54.64101615137754), np.float64(131.1384387633061), np.float64(163.92304845413264)]\n"
     ]
    }
   ],
   "source": [
    "print(valeur_puissance_totale)"
   ]
  },
  {
   "cell_type": "code",
   "execution_count": 73,
   "id": "d23d838a-51c1-4dae-b09d-8102c77d6eea",
   "metadata": {},
   "outputs": [
    {
     "data": {
      "image/png": "[encoded data removed]",
      "text/plain": [
       "<Figure size 640x480 with 1 Axes>"
      ]
     },
     "metadata": {},
     "output_type": "display_data"
    }
   ],
   "source": [
    "plt.plot(valeur_puissance_totale)\n",
    "plt.title('Demande en puissance (W) par mois pour le port de Toulon')\n",
    "plt.show()"
   ]
  },
  {
   "cell_type": "code",
   "execution_count": null,
   "id": "ec6b9557-704f-4ed1-840c-06a68a9c57c0",
   "metadata": {},
   "outputs": [],
   "source": [
    "#degré jour unifié = dju"
   ]
  }
 ],
 "metadata": {
  "kernelspec": {
   "display_name": "Python 3 (ipykernel)",
   "language": "python",
   "name": "python3"
  },
  "language_info": {
   "codemirror_mode": {
    "name": "ipython",
    "version": 3
   },
   "file_extension": ".py",
   "mimetype": "text/x-python",
   "name": "python",
   "nbconvert_exporter": "python",
   "pygments_lexer": "ipython3",
   "version": "3.12.4"
  }
 },
 "nbformat": 4,
 "nbformat_minor": 5
}
